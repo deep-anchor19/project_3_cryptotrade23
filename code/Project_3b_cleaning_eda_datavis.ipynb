{
 "cells": [
  {
   "cell_type": "markdown",
   "metadata": {},
   "source": [
    "<img src=\"http://imgur.com/1ZcRyrc.png\" style=\"float: left; margin: 20px; height: 55px\">\n",
    "\n",
    "# Project 3: Application Programming Interface, Natural Language Processing & Classification Modelling"
   ]
  },
  {
   "cell_type": "markdown",
   "metadata": {},
   "source": [
    "### Contents:\n",
    "- [Data Import & Cleaning](#Data-Import-and-Cleaning)\n",
    "- [Exploratory Data Analysis](#Exploratory-Data-Analysis)\n",
    "- [Data Visualization](#Data-Visualization)"
   ]
  },
  {
   "cell_type": "markdown",
   "metadata": {},
   "source": [
    "## Data Import and Cleaning"
   ]
  },
  {
   "cell_type": "code",
   "execution_count": 1,
   "metadata": {},
   "outputs": [],
   "source": [
    "# import libraries\n",
    "import pandas as pd\n",
    "import numpy as np\n",
    "import requests, time, nltk, string, re, os\n",
    "import datetime as dt\n",
    "from random import randint\n",
    "from time import sleep\n",
    "import matplotlib.pyplot as plt\n",
    "import seaborn as sns\n",
    "\n",
    "# NLP\n",
    "from nltk.stem import WordNetLemmatizer\n",
    "from nltk.sentiment.vader import SentimentIntensityAnalyzer\n",
    "from sklearn.feature_extraction.text import CountVectorizer, TfidfVectorizer\n",
    "\n",
    "# classifiers\n",
    "from sklearn.neighbors import KNeighborsClassifier\n",
    "from sklearn.preprocessing import StandardScaler\n",
    "from sklearn.linear_model import LogisticRegression\n",
    "from sklearn.metrics import (accuracy_score, confusion_matrix, plot_confusion_matrix, recall_score, precision_score)\n",
    "from sklearn.pipeline import Pipeline\n",
    "from sklearn.model_selection import train_test_split, GridSearchCV, cross_val_score\n",
    "from sklearn.dummy import DummyClassifier\n",
    "\n",
    "import gensim.downloader as api #allows us to get word2vec anf glove embeddins that we need\n",
    "from gensim.models.word2vec import Word2Vec\n",
    "\n",
    "from bs4 import BeautifulSoup\n",
    "\n",
    "# easier to see full text with a bigger maxwidth:\n",
    "pd.options.display.max_colwidth = 200"
   ]
  },
  {
   "cell_type": "code",
   "execution_count": 2,
   "metadata": {},
   "outputs": [],
   "source": [
    "btc_sub = pd.read_csv('../data/bitcoin_sub.csv')\n",
    "eth_sub = pd.read_csv('../data/ethereum_sub.csv')"
   ]
  },
  {
   "cell_type": "code",
   "execution_count": 3,
   "metadata": {},
   "outputs": [
    {
     "data": {
      "text/plain": [
       "(9998, 9)"
      ]
     },
     "execution_count": 3,
     "metadata": {},
     "output_type": "execute_result"
    }
   ],
   "source": [
    "btc_sub.shape"
   ]
  },
  {
   "cell_type": "code",
   "execution_count": 4,
   "metadata": {},
   "outputs": [
    {
     "data": {
      "text/html": [
       "<div>\n",
       "<style scoped>\n",
       "    .dataframe tbody tr th:only-of-type {\n",
       "        vertical-align: middle;\n",
       "    }\n",
       "\n",
       "    .dataframe tbody tr th {\n",
       "        vertical-align: top;\n",
       "    }\n",
       "\n",
       "    .dataframe thead th {\n",
       "        text-align: right;\n",
       "    }\n",
       "</style>\n",
       "<table border=\"1\" class=\"dataframe\">\n",
       "  <thead>\n",
       "    <tr style=\"text-align: right;\">\n",
       "      <th></th>\n",
       "      <th>subreddit</th>\n",
       "      <th>title</th>\n",
       "      <th>selftext</th>\n",
       "      <th>created_utc</th>\n",
       "      <th>author</th>\n",
       "      <th>is_self</th>\n",
       "      <th>score</th>\n",
       "      <th>num_comments</th>\n",
       "      <th>timestamp</th>\n",
       "    </tr>\n",
       "  </thead>\n",
       "  <tbody>\n",
       "    <tr>\n",
       "      <th>0</th>\n",
       "      <td>Bitcoin</td>\n",
       "      <td>Bitcoin Town - A fiction novel about using Bitcoin against the Great Reset</td>\n",
       "      <td>[removed]</td>\n",
       "      <td>1626939006</td>\n",
       "      <td>theremnanthodl</td>\n",
       "      <td>True</td>\n",
       "      <td>1</td>\n",
       "      <td>0</td>\n",
       "      <td>2021-07-22</td>\n",
       "    </tr>\n",
       "    <tr>\n",
       "      <th>1</th>\n",
       "      <td>Bitcoin</td>\n",
       "      <td>Bitcoin Town - A fiction novel about using Bitcoin against the Great Reset</td>\n",
       "      <td>[removed]</td>\n",
       "      <td>1626938084</td>\n",
       "      <td>theremnanthodl</td>\n",
       "      <td>True</td>\n",
       "      <td>1</td>\n",
       "      <td>0</td>\n",
       "      <td>2021-07-22</td>\n",
       "    </tr>\n",
       "    <tr>\n",
       "      <th>2</th>\n",
       "      <td>Bitcoin</td>\n",
       "      <td>Crypto Influencers Dorsey, Woods, and Musk Face-off During B-Word Conference</td>\n",
       "      <td>NaN</td>\n",
       "      <td>1626937970</td>\n",
       "      <td>ReadDailyCoin</td>\n",
       "      <td>False</td>\n",
       "      <td>1</td>\n",
       "      <td>1</td>\n",
       "      <td>2021-07-22</td>\n",
       "    </tr>\n",
       "    <tr>\n",
       "      <th>3</th>\n",
       "      <td>Bitcoin</td>\n",
       "      <td>Elon Musk’s View on Bitcoin (July 21 2021)</td>\n",
       "      <td>NaN</td>\n",
       "      <td>1626937137</td>\n",
       "      <td>theloiteringlinguist</td>\n",
       "      <td>False</td>\n",
       "      <td>1</td>\n",
       "      <td>2</td>\n",
       "      <td>2021-07-22</td>\n",
       "    </tr>\n",
       "    <tr>\n",
       "      <th>4</th>\n",
       "      <td>Bitcoin</td>\n",
       "      <td>You’ve undoubtedly heard about crypto currencies by now such as Bitcoin, Ethereum and DOGE coin. But you can’t help but wonder what is it? What can I do with it? What is mining? Well CryptoMapz is...</td>\n",
       "      <td>NaN</td>\n",
       "      <td>1626936557</td>\n",
       "      <td>Electronic_Chard1987</td>\n",
       "      <td>False</td>\n",
       "      <td>1</td>\n",
       "      <td>20</td>\n",
       "      <td>2021-07-22</td>\n",
       "    </tr>\n",
       "  </tbody>\n",
       "</table>\n",
       "</div>"
      ],
      "text/plain": [
       "  subreddit  \\\n",
       "0   Bitcoin   \n",
       "1   Bitcoin   \n",
       "2   Bitcoin   \n",
       "3   Bitcoin   \n",
       "4   Bitcoin   \n",
       "\n",
       "                                                                                                                                                                                                     title  \\\n",
       "0                                                                                                                               Bitcoin Town - A fiction novel about using Bitcoin against the Great Reset   \n",
       "1                                                                                                                               Bitcoin Town - A fiction novel about using Bitcoin against the Great Reset   \n",
       "2                                                                                                                             Crypto Influencers Dorsey, Woods, and Musk Face-off During B-Word Conference   \n",
       "3                                                                                                                                                               Elon Musk’s View on Bitcoin (July 21 2021)   \n",
       "4  You’ve undoubtedly heard about crypto currencies by now such as Bitcoin, Ethereum and DOGE coin. But you can’t help but wonder what is it? What can I do with it? What is mining? Well CryptoMapz is...   \n",
       "\n",
       "    selftext  created_utc                author  is_self  score  num_comments  \\\n",
       "0  [removed]   1626939006        theremnanthodl     True      1             0   \n",
       "1  [removed]   1626938084        theremnanthodl     True      1             0   \n",
       "2        NaN   1626937970         ReadDailyCoin    False      1             1   \n",
       "3        NaN   1626937137  theloiteringlinguist    False      1             2   \n",
       "4        NaN   1626936557  Electronic_Chard1987    False      1            20   \n",
       "\n",
       "    timestamp  \n",
       "0  2021-07-22  \n",
       "1  2021-07-22  \n",
       "2  2021-07-22  \n",
       "3  2021-07-22  \n",
       "4  2021-07-22  "
      ]
     },
     "execution_count": 4,
     "metadata": {},
     "output_type": "execute_result"
    }
   ],
   "source": [
    "btc_sub.head()"
   ]
  },
  {
   "cell_type": "code",
   "execution_count": 5,
   "metadata": {},
   "outputs": [
    {
     "data": {
      "text/plain": [
       "(9999, 9)"
      ]
     },
     "execution_count": 5,
     "metadata": {},
     "output_type": "execute_result"
    }
   ],
   "source": [
    "eth_sub.shape"
   ]
  },
  {
   "cell_type": "code",
   "execution_count": 6,
   "metadata": {},
   "outputs": [
    {
     "data": {
      "text/html": [
       "<div>\n",
       "<style scoped>\n",
       "    .dataframe tbody tr th:only-of-type {\n",
       "        vertical-align: middle;\n",
       "    }\n",
       "\n",
       "    .dataframe tbody tr th {\n",
       "        vertical-align: top;\n",
       "    }\n",
       "\n",
       "    .dataframe thead th {\n",
       "        text-align: right;\n",
       "    }\n",
       "</style>\n",
       "<table border=\"1\" class=\"dataframe\">\n",
       "  <thead>\n",
       "    <tr style=\"text-align: right;\">\n",
       "      <th></th>\n",
       "      <th>subreddit</th>\n",
       "      <th>title</th>\n",
       "      <th>selftext</th>\n",
       "      <th>created_utc</th>\n",
       "      <th>author</th>\n",
       "      <th>is_self</th>\n",
       "      <th>score</th>\n",
       "      <th>num_comments</th>\n",
       "      <th>timestamp</th>\n",
       "    </tr>\n",
       "  </thead>\n",
       "  <tbody>\n",
       "    <tr>\n",
       "      <th>0</th>\n",
       "      <td>ethereum</td>\n",
       "      <td>Should I sell bitcoin and just go all in ethereum?</td>\n",
       "      <td>* I have like $37.5k invested total in bitcoin, and after the crash, I only have $10.8k gains. If I sold at $65k, I'd have $100k right now in cash.\\n* I basically bought a whole coin at around $10...</td>\n",
       "      <td>1626938727</td>\n",
       "      <td>wuzzgucci</td>\n",
       "      <td>True</td>\n",
       "      <td>1</td>\n",
       "      <td>44</td>\n",
       "      <td>2021-07-22</td>\n",
       "    </tr>\n",
       "    <tr>\n",
       "      <th>1</th>\n",
       "      <td>ethereum</td>\n",
       "      <td>The hug – ultra rare 1/1</td>\n",
       "      <td>[removed]</td>\n",
       "      <td>1626938319</td>\n",
       "      <td>Needle_NFT</td>\n",
       "      <td>True</td>\n",
       "      <td>1</td>\n",
       "      <td>0</td>\n",
       "      <td>2021-07-22</td>\n",
       "    </tr>\n",
       "    <tr>\n",
       "      <th>2</th>\n",
       "      <td>ethereum</td>\n",
       "      <td>L2BEAT website upgrade</td>\n",
       "      <td>[removed]</td>\n",
       "      <td>1626938005</td>\n",
       "      <td>AOFEX__Official</td>\n",
       "      <td>True</td>\n",
       "      <td>1</td>\n",
       "      <td>0</td>\n",
       "      <td>2021-07-22</td>\n",
       "    </tr>\n",
       "    <tr>\n",
       "      <th>3</th>\n",
       "      <td>ethereum</td>\n",
       "      <td>The Internet World of our Future!!! (INSANE) the best vid I’ve ever watched in my life of crypto</td>\n",
       "      <td>NaN</td>\n",
       "      <td>1626937513</td>\n",
       "      <td>FarEnergy3518</td>\n",
       "      <td>False</td>\n",
       "      <td>1</td>\n",
       "      <td>0</td>\n",
       "      <td>2021-07-22</td>\n",
       "    </tr>\n",
       "    <tr>\n",
       "      <th>4</th>\n",
       "      <td>ethereum</td>\n",
       "      <td>I like the way Polygon thinks - Mihailo Bjelic on Twitter</td>\n",
       "      <td>NaN</td>\n",
       "      <td>1626936362</td>\n",
       "      <td>excusemealot</td>\n",
       "      <td>False</td>\n",
       "      <td>1</td>\n",
       "      <td>1</td>\n",
       "      <td>2021-07-22</td>\n",
       "    </tr>\n",
       "  </tbody>\n",
       "</table>\n",
       "</div>"
      ],
      "text/plain": [
       "  subreddit  \\\n",
       "0  ethereum   \n",
       "1  ethereum   \n",
       "2  ethereum   \n",
       "3  ethereum   \n",
       "4  ethereum   \n",
       "\n",
       "                                                                                              title  \\\n",
       "0                                                Should I sell bitcoin and just go all in ethereum?   \n",
       "1                                                                          The hug – ultra rare 1/1   \n",
       "2                                                                            L2BEAT website upgrade   \n",
       "3  The Internet World of our Future!!! (INSANE) the best vid I’ve ever watched in my life of crypto   \n",
       "4                                         I like the way Polygon thinks - Mihailo Bjelic on Twitter   \n",
       "\n",
       "                                                                                                                                                                                                  selftext  \\\n",
       "0  * I have like $37.5k invested total in bitcoin, and after the crash, I only have $10.8k gains. If I sold at $65k, I'd have $100k right now in cash.\\n* I basically bought a whole coin at around $10...   \n",
       "1                                                                                                                                                                                                [removed]   \n",
       "2                                                                                                                                                                                                [removed]   \n",
       "3                                                                                                                                                                                                      NaN   \n",
       "4                                                                                                                                                                                                      NaN   \n",
       "\n",
       "   created_utc           author  is_self  score  num_comments   timestamp  \n",
       "0   1626938727        wuzzgucci     True      1            44  2021-07-22  \n",
       "1   1626938319       Needle_NFT     True      1             0  2021-07-22  \n",
       "2   1626938005  AOFEX__Official     True      1             0  2021-07-22  \n",
       "3   1626937513    FarEnergy3518    False      1             0  2021-07-22  \n",
       "4   1626936362     excusemealot    False      1             1  2021-07-22  "
      ]
     },
     "execution_count": 6,
     "metadata": {},
     "output_type": "execute_result"
    }
   ],
   "source": [
    "eth_sub.head()"
   ]
  },
  {
   "cell_type": "markdown",
   "metadata": {},
   "source": [
    "#### Let's merge our submission dataframes to make processing easier"
   ]
  },
  {
   "cell_type": "code",
   "execution_count": 7,
   "metadata": {},
   "outputs": [],
   "source": [
    "# concat the btc_sub & eth_sub dataframes\n",
    "df = pd.concat([btc_sub, eth_sub])"
   ]
  },
  {
   "cell_type": "code",
   "execution_count": 8,
   "metadata": {},
   "outputs": [
    {
     "data": {
      "text/plain": [
       "(19997, 9)"
      ]
     },
     "execution_count": 8,
     "metadata": {},
     "output_type": "execute_result"
    }
   ],
   "source": [
    "df.shape"
   ]
  },
  {
   "cell_type": "code",
   "execution_count": 9,
   "metadata": {},
   "outputs": [
    {
     "data": {
      "text/html": [
       "<div>\n",
       "<style scoped>\n",
       "    .dataframe tbody tr th:only-of-type {\n",
       "        vertical-align: middle;\n",
       "    }\n",
       "\n",
       "    .dataframe tbody tr th {\n",
       "        vertical-align: top;\n",
       "    }\n",
       "\n",
       "    .dataframe thead th {\n",
       "        text-align: right;\n",
       "    }\n",
       "</style>\n",
       "<table border=\"1\" class=\"dataframe\">\n",
       "  <thead>\n",
       "    <tr style=\"text-align: right;\">\n",
       "      <th></th>\n",
       "      <th>subreddit</th>\n",
       "      <th>title</th>\n",
       "      <th>selftext</th>\n",
       "      <th>created_utc</th>\n",
       "      <th>author</th>\n",
       "      <th>is_self</th>\n",
       "      <th>score</th>\n",
       "      <th>num_comments</th>\n",
       "      <th>timestamp</th>\n",
       "    </tr>\n",
       "  </thead>\n",
       "  <tbody>\n",
       "    <tr>\n",
       "      <th>0</th>\n",
       "      <td>Bitcoin</td>\n",
       "      <td>Bitcoin Town - A fiction novel about using Bitcoin against the Great Reset</td>\n",
       "      <td>[removed]</td>\n",
       "      <td>1626939006</td>\n",
       "      <td>theremnanthodl</td>\n",
       "      <td>True</td>\n",
       "      <td>1</td>\n",
       "      <td>0</td>\n",
       "      <td>2021-07-22</td>\n",
       "    </tr>\n",
       "    <tr>\n",
       "      <th>1</th>\n",
       "      <td>Bitcoin</td>\n",
       "      <td>Bitcoin Town - A fiction novel about using Bitcoin against the Great Reset</td>\n",
       "      <td>[removed]</td>\n",
       "      <td>1626938084</td>\n",
       "      <td>theremnanthodl</td>\n",
       "      <td>True</td>\n",
       "      <td>1</td>\n",
       "      <td>0</td>\n",
       "      <td>2021-07-22</td>\n",
       "    </tr>\n",
       "    <tr>\n",
       "      <th>2</th>\n",
       "      <td>Bitcoin</td>\n",
       "      <td>Crypto Influencers Dorsey, Woods, and Musk Face-off During B-Word Conference</td>\n",
       "      <td>NaN</td>\n",
       "      <td>1626937970</td>\n",
       "      <td>ReadDailyCoin</td>\n",
       "      <td>False</td>\n",
       "      <td>1</td>\n",
       "      <td>1</td>\n",
       "      <td>2021-07-22</td>\n",
       "    </tr>\n",
       "    <tr>\n",
       "      <th>3</th>\n",
       "      <td>Bitcoin</td>\n",
       "      <td>Elon Musk’s View on Bitcoin (July 21 2021)</td>\n",
       "      <td>NaN</td>\n",
       "      <td>1626937137</td>\n",
       "      <td>theloiteringlinguist</td>\n",
       "      <td>False</td>\n",
       "      <td>1</td>\n",
       "      <td>2</td>\n",
       "      <td>2021-07-22</td>\n",
       "    </tr>\n",
       "    <tr>\n",
       "      <th>4</th>\n",
       "      <td>Bitcoin</td>\n",
       "      <td>You’ve undoubtedly heard about crypto currencies by now such as Bitcoin, Ethereum and DOGE coin. But you can’t help but wonder what is it? What can I do with it? What is mining? Well CryptoMapz is...</td>\n",
       "      <td>NaN</td>\n",
       "      <td>1626936557</td>\n",
       "      <td>Electronic_Chard1987</td>\n",
       "      <td>False</td>\n",
       "      <td>1</td>\n",
       "      <td>20</td>\n",
       "      <td>2021-07-22</td>\n",
       "    </tr>\n",
       "  </tbody>\n",
       "</table>\n",
       "</div>"
      ],
      "text/plain": [
       "  subreddit  \\\n",
       "0   Bitcoin   \n",
       "1   Bitcoin   \n",
       "2   Bitcoin   \n",
       "3   Bitcoin   \n",
       "4   Bitcoin   \n",
       "\n",
       "                                                                                                                                                                                                     title  \\\n",
       "0                                                                                                                               Bitcoin Town - A fiction novel about using Bitcoin against the Great Reset   \n",
       "1                                                                                                                               Bitcoin Town - A fiction novel about using Bitcoin against the Great Reset   \n",
       "2                                                                                                                             Crypto Influencers Dorsey, Woods, and Musk Face-off During B-Word Conference   \n",
       "3                                                                                                                                                               Elon Musk’s View on Bitcoin (July 21 2021)   \n",
       "4  You’ve undoubtedly heard about crypto currencies by now such as Bitcoin, Ethereum and DOGE coin. But you can’t help but wonder what is it? What can I do with it? What is mining? Well CryptoMapz is...   \n",
       "\n",
       "    selftext  created_utc                author  is_self  score  num_comments  \\\n",
       "0  [removed]   1626939006        theremnanthodl     True      1             0   \n",
       "1  [removed]   1626938084        theremnanthodl     True      1             0   \n",
       "2        NaN   1626937970         ReadDailyCoin    False      1             1   \n",
       "3        NaN   1626937137  theloiteringlinguist    False      1             2   \n",
       "4        NaN   1626936557  Electronic_Chard1987    False      1            20   \n",
       "\n",
       "    timestamp  \n",
       "0  2021-07-22  \n",
       "1  2021-07-22  \n",
       "2  2021-07-22  \n",
       "3  2021-07-22  \n",
       "4  2021-07-22  "
      ]
     },
     "execution_count": 9,
     "metadata": {},
     "output_type": "execute_result"
    }
   ],
   "source": [
    "df.head()"
   ]
  },
  {
   "cell_type": "code",
   "execution_count": 10,
   "metadata": {},
   "outputs": [
    {
     "data": {
      "text/html": [
       "<div>\n",
       "<style scoped>\n",
       "    .dataframe tbody tr th:only-of-type {\n",
       "        vertical-align: middle;\n",
       "    }\n",
       "\n",
       "    .dataframe tbody tr th {\n",
       "        vertical-align: top;\n",
       "    }\n",
       "\n",
       "    .dataframe thead th {\n",
       "        text-align: right;\n",
       "    }\n",
       "</style>\n",
       "<table border=\"1\" class=\"dataframe\">\n",
       "  <thead>\n",
       "    <tr style=\"text-align: right;\">\n",
       "      <th></th>\n",
       "      <th>subreddit</th>\n",
       "      <th>title</th>\n",
       "      <th>selftext</th>\n",
       "      <th>created_utc</th>\n",
       "      <th>author</th>\n",
       "      <th>is_self</th>\n",
       "      <th>score</th>\n",
       "      <th>num_comments</th>\n",
       "      <th>timestamp</th>\n",
       "    </tr>\n",
       "  </thead>\n",
       "  <tbody>\n",
       "    <tr>\n",
       "      <th>9994</th>\n",
       "      <td>ethereum</td>\n",
       "      <td>What’s the best way to save GAS Fees on ERC20 tokens? (If any)</td>\n",
       "      <td>[removed]</td>\n",
       "      <td>1620996867</td>\n",
       "      <td>Double_Concept2718</td>\n",
       "      <td>True</td>\n",
       "      <td>1</td>\n",
       "      <td>0</td>\n",
       "      <td>2021-05-14</td>\n",
       "    </tr>\n",
       "    <tr>\n",
       "      <th>9995</th>\n",
       "      <td>ethereum</td>\n",
       "      <td>HIGH PAYOUT AIRDROP</td>\n",
       "      <td>[removed]</td>\n",
       "      <td>1620996293</td>\n",
       "      <td>Humanbot26</td>\n",
       "      <td>True</td>\n",
       "      <td>1</td>\n",
       "      <td>0</td>\n",
       "      <td>2021-05-14</td>\n",
       "    </tr>\n",
       "    <tr>\n",
       "      <th>9996</th>\n",
       "      <td>ethereum</td>\n",
       "      <td>Singapore’s DBS Private Bank has announced the launch of Asia’s first bank-backed trust offering for cryptocurrency including Ethereum.</td>\n",
       "      <td>NaN</td>\n",
       "      <td>1620995288</td>\n",
       "      <td>rollingincrypto</td>\n",
       "      <td>False</td>\n",
       "      <td>1</td>\n",
       "      <td>0</td>\n",
       "      <td>2021-05-14</td>\n",
       "    </tr>\n",
       "    <tr>\n",
       "      <th>9997</th>\n",
       "      <td>ethereum</td>\n",
       "      <td>I’m thinking about putting my entire life savings into ethereum. What do you guys think ?</td>\n",
       "      <td>[removed]</td>\n",
       "      <td>1620994286</td>\n",
       "      <td>Resident-Lead2439</td>\n",
       "      <td>True</td>\n",
       "      <td>1</td>\n",
       "      <td>0</td>\n",
       "      <td>2021-05-14</td>\n",
       "    </tr>\n",
       "    <tr>\n",
       "      <th>9998</th>\n",
       "      <td>ethereum</td>\n",
       "      <td>mining eth with phoenix miner latest 5.6d getting HIGH stale rate</td>\n",
       "      <td>Hey everybody! I have a 5600x with a 580 rx and  32gigs of DDR4 mining ethereum using phoenix mine and I have a 44%-50% stale rate How can I lower the stale rate? everything is running stock and n...</td>\n",
       "      <td>1620994163</td>\n",
       "      <td>djsteveg</td>\n",
       "      <td>True</td>\n",
       "      <td>1</td>\n",
       "      <td>2</td>\n",
       "      <td>2021-05-14</td>\n",
       "    </tr>\n",
       "  </tbody>\n",
       "</table>\n",
       "</div>"
      ],
      "text/plain": [
       "     subreddit  \\\n",
       "9994  ethereum   \n",
       "9995  ethereum   \n",
       "9996  ethereum   \n",
       "9997  ethereum   \n",
       "9998  ethereum   \n",
       "\n",
       "                                                                                                                                        title  \\\n",
       "9994                                                                           What’s the best way to save GAS Fees on ERC20 tokens? (If any)   \n",
       "9995                                                                                                                      HIGH PAYOUT AIRDROP   \n",
       "9996  Singapore’s DBS Private Bank has announced the launch of Asia’s first bank-backed trust offering for cryptocurrency including Ethereum.   \n",
       "9997                                                I’m thinking about putting my entire life savings into ethereum. What do you guys think ?   \n",
       "9998                                                                        mining eth with phoenix miner latest 5.6d getting HIGH stale rate   \n",
       "\n",
       "                                                                                                                                                                                                     selftext  \\\n",
       "9994                                                                                                                                                                                                [removed]   \n",
       "9995                                                                                                                                                                                                [removed]   \n",
       "9996                                                                                                                                                                                                      NaN   \n",
       "9997                                                                                                                                                                                                [removed]   \n",
       "9998  Hey everybody! I have a 5600x with a 580 rx and  32gigs of DDR4 mining ethereum using phoenix mine and I have a 44%-50% stale rate How can I lower the stale rate? everything is running stock and n...   \n",
       "\n",
       "      created_utc              author  is_self  score  num_comments  \\\n",
       "9994   1620996867  Double_Concept2718     True      1             0   \n",
       "9995   1620996293          Humanbot26     True      1             0   \n",
       "9996   1620995288     rollingincrypto    False      1             0   \n",
       "9997   1620994286   Resident-Lead2439     True      1             0   \n",
       "9998   1620994163            djsteveg     True      1             2   \n",
       "\n",
       "       timestamp  \n",
       "9994  2021-05-14  \n",
       "9995  2021-05-14  \n",
       "9996  2021-05-14  \n",
       "9997  2021-05-14  \n",
       "9998  2021-05-14  "
      ]
     },
     "execution_count": 10,
     "metadata": {},
     "output_type": "execute_result"
    }
   ],
   "source": [
    "df.tail()"
   ]
  },
  {
   "cell_type": "markdown",
   "metadata": {},
   "source": [
    "#### Identifying the missing data"
   ]
  },
  {
   "cell_type": "code",
   "execution_count": 11,
   "metadata": {
    "scrolled": true
   },
   "outputs": [
    {
     "data": {
      "text/plain": [
       "subreddit          0\n",
       "title              0\n",
       "selftext        9551\n",
       "created_utc        0\n",
       "author             0\n",
       "is_self            0\n",
       "score              0\n",
       "num_comments       0\n",
       "timestamp          0\n",
       "dtype: int64"
      ]
     },
     "execution_count": 11,
     "metadata": {},
     "output_type": "execute_result"
    }
   ],
   "source": [
    "df.isnull().sum()"
   ]
  },
  {
   "cell_type": "markdown",
   "metadata": {},
   "source": [
    "So now, we've identified that almost half selftext rows are null values. We can also see rows with (removed)."
   ]
  },
  {
   "cell_type": "markdown",
   "metadata": {},
   "source": [
    "---"
   ]
  },
  {
   "cell_type": "markdown",
   "metadata": {},
   "source": [
    "### Cleaning Strategy\n",
    "\n",
    "1. Replace rows that have nulls in the 'selftext' column with blanks (' ')\n",
    "\n",
    "\n",
    "2. Eliminate all rows in 'selftext' that are (removed) and (deleted)\n",
    "    - Posts are usually (removed) by moderators or reddit itself when they do not conform to the regulations of the page\n",
    "    - Hence, we have deemed that these posts may not be ideal to train our model since they're not deemed ideal by the page\n",
    "    \n",
    "    \n",
    "3. We will proceed to create a merged column which will have the contents of the 'title' and 'selftext' columns\n",
    "    - This allows us to form ONE single column to simplify future processes   \n",
    "\n",
    "\n",
    "4. We will then remove any link references"
   ]
  },
  {
   "cell_type": "markdown",
   "metadata": {},
   "source": [
    "#### 1. Replace nulls, (removed), and (deleted) in 'selftext' with blanks"
   ]
  },
  {
   "cell_type": "code",
   "execution_count": 12,
   "metadata": {},
   "outputs": [],
   "source": [
    "df['selftext'] = df['selftext'].fillna('')\n",
    "\n",
    "#df['selftext'] = df['selftext'].replace('[removed]', '')\n",
    "#df['selftext'] = df['selftext'].replace('[deleted]', '')"
   ]
  },
  {
   "cell_type": "markdown",
   "metadata": {},
   "source": [
    "#### 2. Eliminate rows in 'selftext' which contain (removed) and (deleted)"
   ]
  },
  {
   "cell_type": "markdown",
   "metadata": {},
   "source": [
    "Dataframe shape BEFORE dropping rows with (removed) and (deleted)"
   ]
  },
  {
   "cell_type": "code",
   "execution_count": 13,
   "metadata": {},
   "outputs": [
    {
     "data": {
      "text/plain": [
       "(19997, 9)"
      ]
     },
     "execution_count": 13,
     "metadata": {},
     "output_type": "execute_result"
    }
   ],
   "source": [
    "df.shape"
   ]
  },
  {
   "cell_type": "code",
   "execution_count": 14,
   "metadata": {},
   "outputs": [],
   "source": [
    "df = df[~df['selftext'].str.contains('removed|deleted', na=False)]"
   ]
  },
  {
   "cell_type": "markdown",
   "metadata": {},
   "source": [
    "Dataframe shape AFTER dropping rows with (removed) and (deleted)"
   ]
  },
  {
   "cell_type": "code",
   "execution_count": 15,
   "metadata": {},
   "outputs": [
    {
     "data": {
      "text/plain": [
       "(14046, 9)"
      ]
     },
     "execution_count": 15,
     "metadata": {},
     "output_type": "execute_result"
    }
   ],
   "source": [
    "df.shape"
   ]
  },
  {
   "cell_type": "markdown",
   "metadata": {},
   "source": [
    "After dropping almost 6,000 rows of data, we still are left with slightly more than 14,000 rows"
   ]
  },
  {
   "cell_type": "code",
   "execution_count": 16,
   "metadata": {},
   "outputs": [
    {
     "data": {
      "text/html": [
       "<div>\n",
       "<style scoped>\n",
       "    .dataframe tbody tr th:only-of-type {\n",
       "        vertical-align: middle;\n",
       "    }\n",
       "\n",
       "    .dataframe tbody tr th {\n",
       "        vertical-align: top;\n",
       "    }\n",
       "\n",
       "    .dataframe thead th {\n",
       "        text-align: right;\n",
       "    }\n",
       "</style>\n",
       "<table border=\"1\" class=\"dataframe\">\n",
       "  <thead>\n",
       "    <tr style=\"text-align: right;\">\n",
       "      <th></th>\n",
       "      <th>subreddit</th>\n",
       "      <th>title</th>\n",
       "      <th>selftext</th>\n",
       "      <th>created_utc</th>\n",
       "      <th>author</th>\n",
       "      <th>is_self</th>\n",
       "      <th>score</th>\n",
       "      <th>num_comments</th>\n",
       "      <th>timestamp</th>\n",
       "    </tr>\n",
       "  </thead>\n",
       "  <tbody>\n",
       "    <tr>\n",
       "      <th>2</th>\n",
       "      <td>Bitcoin</td>\n",
       "      <td>Crypto Influencers Dorsey, Woods, and Musk Face-off During B-Word Conference</td>\n",
       "      <td></td>\n",
       "      <td>1626937970</td>\n",
       "      <td>ReadDailyCoin</td>\n",
       "      <td>False</td>\n",
       "      <td>1</td>\n",
       "      <td>1</td>\n",
       "      <td>2021-07-22</td>\n",
       "    </tr>\n",
       "    <tr>\n",
       "      <th>3</th>\n",
       "      <td>Bitcoin</td>\n",
       "      <td>Elon Musk’s View on Bitcoin (July 21 2021)</td>\n",
       "      <td></td>\n",
       "      <td>1626937137</td>\n",
       "      <td>theloiteringlinguist</td>\n",
       "      <td>False</td>\n",
       "      <td>1</td>\n",
       "      <td>2</td>\n",
       "      <td>2021-07-22</td>\n",
       "    </tr>\n",
       "    <tr>\n",
       "      <th>4</th>\n",
       "      <td>Bitcoin</td>\n",
       "      <td>You’ve undoubtedly heard about crypto currencies by now such as Bitcoin, Ethereum and DOGE coin. But you can’t help but wonder what is it? What can I do with it? What is mining? Well CryptoMapz is...</td>\n",
       "      <td></td>\n",
       "      <td>1626936557</td>\n",
       "      <td>Electronic_Chard1987</td>\n",
       "      <td>False</td>\n",
       "      <td>1</td>\n",
       "      <td>20</td>\n",
       "      <td>2021-07-22</td>\n",
       "    </tr>\n",
       "    <tr>\n",
       "      <th>5</th>\n",
       "      <td>Bitcoin</td>\n",
       "      <td>best crypto video ive ever watched</td>\n",
       "      <td></td>\n",
       "      <td>1626936554</td>\n",
       "      <td>FarEnergy3518</td>\n",
       "      <td>False</td>\n",
       "      <td>1</td>\n",
       "      <td>2</td>\n",
       "      <td>2021-07-22</td>\n",
       "    </tr>\n",
       "    <tr>\n",
       "      <th>6</th>\n",
       "      <td>Bitcoin</td>\n",
       "      <td>what moves crypto market apart from the speculators</td>\n",
       "      <td>I would like to know if there is anything that moves   crypto market  apart from the speculators, or are cryptocurrencies and their prices  absolutely speculative?</td>\n",
       "      <td>1626936533</td>\n",
       "      <td>hawk-fe</td>\n",
       "      <td>True</td>\n",
       "      <td>1</td>\n",
       "      <td>7</td>\n",
       "      <td>2021-07-22</td>\n",
       "    </tr>\n",
       "  </tbody>\n",
       "</table>\n",
       "</div>"
      ],
      "text/plain": [
       "  subreddit  \\\n",
       "2   Bitcoin   \n",
       "3   Bitcoin   \n",
       "4   Bitcoin   \n",
       "5   Bitcoin   \n",
       "6   Bitcoin   \n",
       "\n",
       "                                                                                                                                                                                                     title  \\\n",
       "2                                                                                                                             Crypto Influencers Dorsey, Woods, and Musk Face-off During B-Word Conference   \n",
       "3                                                                                                                                                               Elon Musk’s View on Bitcoin (July 21 2021)   \n",
       "4  You’ve undoubtedly heard about crypto currencies by now such as Bitcoin, Ethereum and DOGE coin. But you can’t help but wonder what is it? What can I do with it? What is mining? Well CryptoMapz is...   \n",
       "5                                                                                                                                                                       best crypto video ive ever watched   \n",
       "6                                                                                                                                                      what moves crypto market apart from the speculators   \n",
       "\n",
       "                                                                                                                                                               selftext  \\\n",
       "2                                                                                                                                                                         \n",
       "3                                                                                                                                                                         \n",
       "4                                                                                                                                                                         \n",
       "5                                                                                                                                                                         \n",
       "6   I would like to know if there is anything that moves   crypto market  apart from the speculators, or are cryptocurrencies and their prices  absolutely speculative?   \n",
       "\n",
       "   created_utc                author  is_self  score  num_comments   timestamp  \n",
       "2   1626937970         ReadDailyCoin    False      1             1  2021-07-22  \n",
       "3   1626937137  theloiteringlinguist    False      1             2  2021-07-22  \n",
       "4   1626936557  Electronic_Chard1987    False      1            20  2021-07-22  \n",
       "5   1626936554         FarEnergy3518    False      1             2  2021-07-22  \n",
       "6   1626936533               hawk-fe     True      1             7  2021-07-22  "
      ]
     },
     "execution_count": 16,
     "metadata": {},
     "output_type": "execute_result"
    }
   ],
   "source": [
    "df.head()"
   ]
  },
  {
   "cell_type": "code",
   "execution_count": 17,
   "metadata": {},
   "outputs": [
    {
     "data": {
      "text/html": [
       "<div>\n",
       "<style scoped>\n",
       "    .dataframe tbody tr th:only-of-type {\n",
       "        vertical-align: middle;\n",
       "    }\n",
       "\n",
       "    .dataframe tbody tr th {\n",
       "        vertical-align: top;\n",
       "    }\n",
       "\n",
       "    .dataframe thead th {\n",
       "        text-align: right;\n",
       "    }\n",
       "</style>\n",
       "<table border=\"1\" class=\"dataframe\">\n",
       "  <thead>\n",
       "    <tr style=\"text-align: right;\">\n",
       "      <th></th>\n",
       "      <th>subreddit</th>\n",
       "      <th>title</th>\n",
       "      <th>selftext</th>\n",
       "      <th>created_utc</th>\n",
       "      <th>author</th>\n",
       "      <th>is_self</th>\n",
       "      <th>score</th>\n",
       "      <th>num_comments</th>\n",
       "      <th>timestamp</th>\n",
       "    </tr>\n",
       "  </thead>\n",
       "  <tbody>\n",
       "    <tr>\n",
       "      <th>9989</th>\n",
       "      <td>ethereum</td>\n",
       "      <td>Is Ethereum only for the rich or do poor folks have any stake in it???</td>\n",
       "      <td>looking at Gas fees Ethereum feels like its only for rich first world crypto genius. Meanwhile poor people get Donations in shitcoins and Eth crowd screams  \\n\\n# Vitalik donates $1 billion worth ...</td>\n",
       "      <td>1620998973</td>\n",
       "      <td>gravemindx</td>\n",
       "      <td>True</td>\n",
       "      <td>1</td>\n",
       "      <td>3</td>\n",
       "      <td>2021-05-14</td>\n",
       "    </tr>\n",
       "    <tr>\n",
       "      <th>9991</th>\n",
       "      <td>ethereum</td>\n",
       "      <td>I have been bitten by the bug</td>\n",
       "      <td>When blockchain first came out I thought it would be a fad. Seeing that bitcoin really had no purpose besides store of value. Years go by and I find ethereum... I heard about it before, but I thou...</td>\n",
       "      <td>1620998600</td>\n",
       "      <td>moistcoder</td>\n",
       "      <td>True</td>\n",
       "      <td>1</td>\n",
       "      <td>58</td>\n",
       "      <td>2021-05-14</td>\n",
       "    </tr>\n",
       "    <tr>\n",
       "      <th>9993</th>\n",
       "      <td>ethereum</td>\n",
       "      <td>Well this is quite the story...</td>\n",
       "      <td>[https://www.nytimes.com/2021/05/14/podcasts/the-daily/dogecoin-cryptocurrency-bitcoin.html](https://www.nytimes.com/2021/05/14/podcasts/the-daily/dogecoin-cryptocurrency-bitcoin.html)\\n\\nFantasti...</td>\n",
       "      <td>1620997252</td>\n",
       "      <td>MikeClimbsDC</td>\n",
       "      <td>True</td>\n",
       "      <td>1</td>\n",
       "      <td>2</td>\n",
       "      <td>2021-05-14</td>\n",
       "    </tr>\n",
       "    <tr>\n",
       "      <th>9996</th>\n",
       "      <td>ethereum</td>\n",
       "      <td>Singapore’s DBS Private Bank has announced the launch of Asia’s first bank-backed trust offering for cryptocurrency including Ethereum.</td>\n",
       "      <td></td>\n",
       "      <td>1620995288</td>\n",
       "      <td>rollingincrypto</td>\n",
       "      <td>False</td>\n",
       "      <td>1</td>\n",
       "      <td>0</td>\n",
       "      <td>2021-05-14</td>\n",
       "    </tr>\n",
       "    <tr>\n",
       "      <th>9998</th>\n",
       "      <td>ethereum</td>\n",
       "      <td>mining eth with phoenix miner latest 5.6d getting HIGH stale rate</td>\n",
       "      <td>Hey everybody! I have a 5600x with a 580 rx and  32gigs of DDR4 mining ethereum using phoenix mine and I have a 44%-50% stale rate How can I lower the stale rate? everything is running stock and n...</td>\n",
       "      <td>1620994163</td>\n",
       "      <td>djsteveg</td>\n",
       "      <td>True</td>\n",
       "      <td>1</td>\n",
       "      <td>2</td>\n",
       "      <td>2021-05-14</td>\n",
       "    </tr>\n",
       "  </tbody>\n",
       "</table>\n",
       "</div>"
      ],
      "text/plain": [
       "     subreddit  \\\n",
       "9989  ethereum   \n",
       "9991  ethereum   \n",
       "9993  ethereum   \n",
       "9996  ethereum   \n",
       "9998  ethereum   \n",
       "\n",
       "                                                                                                                                        title  \\\n",
       "9989                                                                   Is Ethereum only for the rich or do poor folks have any stake in it???   \n",
       "9991                                                                                                            I have been bitten by the bug   \n",
       "9993                                                                                                          Well this is quite the story...   \n",
       "9996  Singapore’s DBS Private Bank has announced the launch of Asia’s first bank-backed trust offering for cryptocurrency including Ethereum.   \n",
       "9998                                                                        mining eth with phoenix miner latest 5.6d getting HIGH stale rate   \n",
       "\n",
       "                                                                                                                                                                                                     selftext  \\\n",
       "9989  looking at Gas fees Ethereum feels like its only for rich first world crypto genius. Meanwhile poor people get Donations in shitcoins and Eth crowd screams  \\n\\n# Vitalik donates $1 billion worth ...   \n",
       "9991  When blockchain first came out I thought it would be a fad. Seeing that bitcoin really had no purpose besides store of value. Years go by and I find ethereum... I heard about it before, but I thou...   \n",
       "9993  [https://www.nytimes.com/2021/05/14/podcasts/the-daily/dogecoin-cryptocurrency-bitcoin.html](https://www.nytimes.com/2021/05/14/podcasts/the-daily/dogecoin-cryptocurrency-bitcoin.html)\\n\\nFantasti...   \n",
       "9996                                                                                                                                                                                                            \n",
       "9998  Hey everybody! I have a 5600x with a 580 rx and  32gigs of DDR4 mining ethereum using phoenix mine and I have a 44%-50% stale rate How can I lower the stale rate? everything is running stock and n...   \n",
       "\n",
       "      created_utc           author  is_self  score  num_comments   timestamp  \n",
       "9989   1620998973       gravemindx     True      1             3  2021-05-14  \n",
       "9991   1620998600       moistcoder     True      1            58  2021-05-14  \n",
       "9993   1620997252     MikeClimbsDC     True      1             2  2021-05-14  \n",
       "9996   1620995288  rollingincrypto    False      1             0  2021-05-14  \n",
       "9998   1620994163         djsteveg     True      1             2  2021-05-14  "
      ]
     },
     "execution_count": 17,
     "metadata": {},
     "output_type": "execute_result"
    }
   ],
   "source": [
    "df.tail()"
   ]
  },
  {
   "cell_type": "markdown",
   "metadata": {},
   "source": [
    "#### 3. Create a merged column 'alltext' which will have the contents of the 'title' and 'selftext' columns"
   ]
  },
  {
   "cell_type": "code",
   "execution_count": 18,
   "metadata": {},
   "outputs": [],
   "source": [
    "# merge 'title' and 'selftext' content into 'alltext'\n",
    "df['alltext'] = df['title'] + '. ' + df['selftext']"
   ]
  },
  {
   "cell_type": "code",
   "execution_count": 19,
   "metadata": {},
   "outputs": [
    {
     "data": {
      "text/html": [
       "<div>\n",
       "<style scoped>\n",
       "    .dataframe tbody tr th:only-of-type {\n",
       "        vertical-align: middle;\n",
       "    }\n",
       "\n",
       "    .dataframe tbody tr th {\n",
       "        vertical-align: top;\n",
       "    }\n",
       "\n",
       "    .dataframe thead th {\n",
       "        text-align: right;\n",
       "    }\n",
       "</style>\n",
       "<table border=\"1\" class=\"dataframe\">\n",
       "  <thead>\n",
       "    <tr style=\"text-align: right;\">\n",
       "      <th></th>\n",
       "      <th>subreddit</th>\n",
       "      <th>title</th>\n",
       "      <th>selftext</th>\n",
       "      <th>created_utc</th>\n",
       "      <th>author</th>\n",
       "      <th>is_self</th>\n",
       "      <th>score</th>\n",
       "      <th>num_comments</th>\n",
       "      <th>timestamp</th>\n",
       "      <th>alltext</th>\n",
       "    </tr>\n",
       "  </thead>\n",
       "  <tbody>\n",
       "    <tr>\n",
       "      <th>9989</th>\n",
       "      <td>ethereum</td>\n",
       "      <td>Is Ethereum only for the rich or do poor folks have any stake in it???</td>\n",
       "      <td>looking at Gas fees Ethereum feels like its only for rich first world crypto genius. Meanwhile poor people get Donations in shitcoins and Eth crowd screams  \\n\\n# Vitalik donates $1 billion worth ...</td>\n",
       "      <td>1620998973</td>\n",
       "      <td>gravemindx</td>\n",
       "      <td>True</td>\n",
       "      <td>1</td>\n",
       "      <td>3</td>\n",
       "      <td>2021-05-14</td>\n",
       "      <td>Is Ethereum only for the rich or do poor folks have any stake in it???. looking at Gas fees Ethereum feels like its only for rich first world crypto genius. Meanwhile poor people get Donations in ...</td>\n",
       "    </tr>\n",
       "    <tr>\n",
       "      <th>9991</th>\n",
       "      <td>ethereum</td>\n",
       "      <td>I have been bitten by the bug</td>\n",
       "      <td>When blockchain first came out I thought it would be a fad. Seeing that bitcoin really had no purpose besides store of value. Years go by and I find ethereum... I heard about it before, but I thou...</td>\n",
       "      <td>1620998600</td>\n",
       "      <td>moistcoder</td>\n",
       "      <td>True</td>\n",
       "      <td>1</td>\n",
       "      <td>58</td>\n",
       "      <td>2021-05-14</td>\n",
       "      <td>I have been bitten by the bug. When blockchain first came out I thought it would be a fad. Seeing that bitcoin really had no purpose besides store of value. Years go by and I find ethereum... I he...</td>\n",
       "    </tr>\n",
       "    <tr>\n",
       "      <th>9993</th>\n",
       "      <td>ethereum</td>\n",
       "      <td>Well this is quite the story...</td>\n",
       "      <td>[https://www.nytimes.com/2021/05/14/podcasts/the-daily/dogecoin-cryptocurrency-bitcoin.html](https://www.nytimes.com/2021/05/14/podcasts/the-daily/dogecoin-cryptocurrency-bitcoin.html)\\n\\nFantasti...</td>\n",
       "      <td>1620997252</td>\n",
       "      <td>MikeClimbsDC</td>\n",
       "      <td>True</td>\n",
       "      <td>1</td>\n",
       "      <td>2</td>\n",
       "      <td>2021-05-14</td>\n",
       "      <td>Well this is quite the story.... [https://www.nytimes.com/2021/05/14/podcasts/the-daily/dogecoin-cryptocurrency-bitcoin.html](https://www.nytimes.com/2021/05/14/podcasts/the-daily/dogecoin-cryptoc...</td>\n",
       "    </tr>\n",
       "    <tr>\n",
       "      <th>9996</th>\n",
       "      <td>ethereum</td>\n",
       "      <td>Singapore’s DBS Private Bank has announced the launch of Asia’s first bank-backed trust offering for cryptocurrency including Ethereum.</td>\n",
       "      <td></td>\n",
       "      <td>1620995288</td>\n",
       "      <td>rollingincrypto</td>\n",
       "      <td>False</td>\n",
       "      <td>1</td>\n",
       "      <td>0</td>\n",
       "      <td>2021-05-14</td>\n",
       "      <td>Singapore’s DBS Private Bank has announced the launch of Asia’s first bank-backed trust offering for cryptocurrency including Ethereum..</td>\n",
       "    </tr>\n",
       "    <tr>\n",
       "      <th>9998</th>\n",
       "      <td>ethereum</td>\n",
       "      <td>mining eth with phoenix miner latest 5.6d getting HIGH stale rate</td>\n",
       "      <td>Hey everybody! I have a 5600x with a 580 rx and  32gigs of DDR4 mining ethereum using phoenix mine and I have a 44%-50% stale rate How can I lower the stale rate? everything is running stock and n...</td>\n",
       "      <td>1620994163</td>\n",
       "      <td>djsteveg</td>\n",
       "      <td>True</td>\n",
       "      <td>1</td>\n",
       "      <td>2</td>\n",
       "      <td>2021-05-14</td>\n",
       "      <td>mining eth with phoenix miner latest 5.6d getting HIGH stale rate. Hey everybody! I have a 5600x with a 580 rx and  32gigs of DDR4 mining ethereum using phoenix mine and I have a 44%-50% stale rat...</td>\n",
       "    </tr>\n",
       "  </tbody>\n",
       "</table>\n",
       "</div>"
      ],
      "text/plain": [
       "     subreddit  \\\n",
       "9989  ethereum   \n",
       "9991  ethereum   \n",
       "9993  ethereum   \n",
       "9996  ethereum   \n",
       "9998  ethereum   \n",
       "\n",
       "                                                                                                                                        title  \\\n",
       "9989                                                                   Is Ethereum only for the rich or do poor folks have any stake in it???   \n",
       "9991                                                                                                            I have been bitten by the bug   \n",
       "9993                                                                                                          Well this is quite the story...   \n",
       "9996  Singapore’s DBS Private Bank has announced the launch of Asia’s first bank-backed trust offering for cryptocurrency including Ethereum.   \n",
       "9998                                                                        mining eth with phoenix miner latest 5.6d getting HIGH stale rate   \n",
       "\n",
       "                                                                                                                                                                                                     selftext  \\\n",
       "9989  looking at Gas fees Ethereum feels like its only for rich first world crypto genius. Meanwhile poor people get Donations in shitcoins and Eth crowd screams  \\n\\n# Vitalik donates $1 billion worth ...   \n",
       "9991  When blockchain first came out I thought it would be a fad. Seeing that bitcoin really had no purpose besides store of value. Years go by and I find ethereum... I heard about it before, but I thou...   \n",
       "9993  [https://www.nytimes.com/2021/05/14/podcasts/the-daily/dogecoin-cryptocurrency-bitcoin.html](https://www.nytimes.com/2021/05/14/podcasts/the-daily/dogecoin-cryptocurrency-bitcoin.html)\\n\\nFantasti...   \n",
       "9996                                                                                                                                                                                                            \n",
       "9998  Hey everybody! I have a 5600x with a 580 rx and  32gigs of DDR4 mining ethereum using phoenix mine and I have a 44%-50% stale rate How can I lower the stale rate? everything is running stock and n...   \n",
       "\n",
       "      created_utc           author  is_self  score  num_comments   timestamp  \\\n",
       "9989   1620998973       gravemindx     True      1             3  2021-05-14   \n",
       "9991   1620998600       moistcoder     True      1            58  2021-05-14   \n",
       "9993   1620997252     MikeClimbsDC     True      1             2  2021-05-14   \n",
       "9996   1620995288  rollingincrypto    False      1             0  2021-05-14   \n",
       "9998   1620994163         djsteveg     True      1             2  2021-05-14   \n",
       "\n",
       "                                                                                                                                                                                                      alltext  \n",
       "9989  Is Ethereum only for the rich or do poor folks have any stake in it???. looking at Gas fees Ethereum feels like its only for rich first world crypto genius. Meanwhile poor people get Donations in ...  \n",
       "9991  I have been bitten by the bug. When blockchain first came out I thought it would be a fad. Seeing that bitcoin really had no purpose besides store of value. Years go by and I find ethereum... I he...  \n",
       "9993  Well this is quite the story.... [https://www.nytimes.com/2021/05/14/podcasts/the-daily/dogecoin-cryptocurrency-bitcoin.html](https://www.nytimes.com/2021/05/14/podcasts/the-daily/dogecoin-cryptoc...  \n",
       "9996                                                                Singapore’s DBS Private Bank has announced the launch of Asia’s first bank-backed trust offering for cryptocurrency including Ethereum..   \n",
       "9998  mining eth with phoenix miner latest 5.6d getting HIGH stale rate. Hey everybody! I have a 5600x with a 580 rx and  32gigs of DDR4 mining ethereum using phoenix mine and I have a 44%-50% stale rat...  "
      ]
     },
     "execution_count": 19,
     "metadata": {},
     "output_type": "execute_result"
    }
   ],
   "source": [
    "df.tail()"
   ]
  },
  {
   "cell_type": "markdown",
   "metadata": {},
   "source": [
    "After merging 'title' and 'selftext' into 'alltext', we drop those two columns, and move 'alltext' to beside 'subreddit'"
   ]
  },
  {
   "cell_type": "code",
   "execution_count": 20,
   "metadata": {},
   "outputs": [],
   "source": [
    "df = df.drop(['title', 'selftext'], axis=1)\n",
    "df = df[['subreddit', 'alltext', 'created_utc', 'author', 'is_self', 'score', 'num_comments', 'timestamp']]"
   ]
  },
  {
   "cell_type": "code",
   "execution_count": 21,
   "metadata": {},
   "outputs": [
    {
     "data": {
      "text/html": [
       "<div>\n",
       "<style scoped>\n",
       "    .dataframe tbody tr th:only-of-type {\n",
       "        vertical-align: middle;\n",
       "    }\n",
       "\n",
       "    .dataframe tbody tr th {\n",
       "        vertical-align: top;\n",
       "    }\n",
       "\n",
       "    .dataframe thead th {\n",
       "        text-align: right;\n",
       "    }\n",
       "</style>\n",
       "<table border=\"1\" class=\"dataframe\">\n",
       "  <thead>\n",
       "    <tr style=\"text-align: right;\">\n",
       "      <th></th>\n",
       "      <th>subreddit</th>\n",
       "      <th>alltext</th>\n",
       "      <th>created_utc</th>\n",
       "      <th>author</th>\n",
       "      <th>is_self</th>\n",
       "      <th>score</th>\n",
       "      <th>num_comments</th>\n",
       "      <th>timestamp</th>\n",
       "    </tr>\n",
       "  </thead>\n",
       "  <tbody>\n",
       "    <tr>\n",
       "      <th>9989</th>\n",
       "      <td>ethereum</td>\n",
       "      <td>Is Ethereum only for the rich or do poor folks have any stake in it???. looking at Gas fees Ethereum feels like its only for rich first world crypto genius. Meanwhile poor people get Donations in ...</td>\n",
       "      <td>1620998973</td>\n",
       "      <td>gravemindx</td>\n",
       "      <td>True</td>\n",
       "      <td>1</td>\n",
       "      <td>3</td>\n",
       "      <td>2021-05-14</td>\n",
       "    </tr>\n",
       "    <tr>\n",
       "      <th>9991</th>\n",
       "      <td>ethereum</td>\n",
       "      <td>I have been bitten by the bug. When blockchain first came out I thought it would be a fad. Seeing that bitcoin really had no purpose besides store of value. Years go by and I find ethereum... I he...</td>\n",
       "      <td>1620998600</td>\n",
       "      <td>moistcoder</td>\n",
       "      <td>True</td>\n",
       "      <td>1</td>\n",
       "      <td>58</td>\n",
       "      <td>2021-05-14</td>\n",
       "    </tr>\n",
       "    <tr>\n",
       "      <th>9993</th>\n",
       "      <td>ethereum</td>\n",
       "      <td>Well this is quite the story.... [https://www.nytimes.com/2021/05/14/podcasts/the-daily/dogecoin-cryptocurrency-bitcoin.html](https://www.nytimes.com/2021/05/14/podcasts/the-daily/dogecoin-cryptoc...</td>\n",
       "      <td>1620997252</td>\n",
       "      <td>MikeClimbsDC</td>\n",
       "      <td>True</td>\n",
       "      <td>1</td>\n",
       "      <td>2</td>\n",
       "      <td>2021-05-14</td>\n",
       "    </tr>\n",
       "    <tr>\n",
       "      <th>9996</th>\n",
       "      <td>ethereum</td>\n",
       "      <td>Singapore’s DBS Private Bank has announced the launch of Asia’s first bank-backed trust offering for cryptocurrency including Ethereum..</td>\n",
       "      <td>1620995288</td>\n",
       "      <td>rollingincrypto</td>\n",
       "      <td>False</td>\n",
       "      <td>1</td>\n",
       "      <td>0</td>\n",
       "      <td>2021-05-14</td>\n",
       "    </tr>\n",
       "    <tr>\n",
       "      <th>9998</th>\n",
       "      <td>ethereum</td>\n",
       "      <td>mining eth with phoenix miner latest 5.6d getting HIGH stale rate. Hey everybody! I have a 5600x with a 580 rx and  32gigs of DDR4 mining ethereum using phoenix mine and I have a 44%-50% stale rat...</td>\n",
       "      <td>1620994163</td>\n",
       "      <td>djsteveg</td>\n",
       "      <td>True</td>\n",
       "      <td>1</td>\n",
       "      <td>2</td>\n",
       "      <td>2021-05-14</td>\n",
       "    </tr>\n",
       "  </tbody>\n",
       "</table>\n",
       "</div>"
      ],
      "text/plain": [
       "     subreddit  \\\n",
       "9989  ethereum   \n",
       "9991  ethereum   \n",
       "9993  ethereum   \n",
       "9996  ethereum   \n",
       "9998  ethereum   \n",
       "\n",
       "                                                                                                                                                                                                      alltext  \\\n",
       "9989  Is Ethereum only for the rich or do poor folks have any stake in it???. looking at Gas fees Ethereum feels like its only for rich first world crypto genius. Meanwhile poor people get Donations in ...   \n",
       "9991  I have been bitten by the bug. When blockchain first came out I thought it would be a fad. Seeing that bitcoin really had no purpose besides store of value. Years go by and I find ethereum... I he...   \n",
       "9993  Well this is quite the story.... [https://www.nytimes.com/2021/05/14/podcasts/the-daily/dogecoin-cryptocurrency-bitcoin.html](https://www.nytimes.com/2021/05/14/podcasts/the-daily/dogecoin-cryptoc...   \n",
       "9996                                                                Singapore’s DBS Private Bank has announced the launch of Asia’s first bank-backed trust offering for cryptocurrency including Ethereum..    \n",
       "9998  mining eth with phoenix miner latest 5.6d getting HIGH stale rate. Hey everybody! I have a 5600x with a 580 rx and  32gigs of DDR4 mining ethereum using phoenix mine and I have a 44%-50% stale rat...   \n",
       "\n",
       "      created_utc           author  is_self  score  num_comments   timestamp  \n",
       "9989   1620998973       gravemindx     True      1             3  2021-05-14  \n",
       "9991   1620998600       moistcoder     True      1            58  2021-05-14  \n",
       "9993   1620997252     MikeClimbsDC     True      1             2  2021-05-14  \n",
       "9996   1620995288  rollingincrypto    False      1             0  2021-05-14  \n",
       "9998   1620994163         djsteveg     True      1             2  2021-05-14  "
      ]
     },
     "execution_count": 21,
     "metadata": {},
     "output_type": "execute_result"
    }
   ],
   "source": [
    "df.tail()"
   ]
  },
  {
   "cell_type": "markdown",
   "metadata": {},
   "source": [
    "Find out number of words in the alltext column"
   ]
  },
  {
   "cell_type": "code",
   "execution_count": 22,
   "metadata": {},
   "outputs": [
    {
     "data": {
      "text/plain": [
       "585907"
      ]
     },
     "execution_count": 22,
     "metadata": {},
     "output_type": "execute_result"
    }
   ],
   "source": [
    "def word_count(series):\n",
    "    list_tokens = [w.lower() for w in series]\n",
    "    string_tokens = str(list_tokens)\n",
    "    tokens = BeautifulSoup(string_tokens).get_text()\n",
    "    return tokens\n",
    "len(word_count(df['alltext']).split())"
   ]
  },
  {
   "cell_type": "markdown",
   "metadata": {},
   "source": [
    "#### 4. Remove link references"
   ]
  },
  {
   "cell_type": "code",
   "execution_count": 23,
   "metadata": {},
   "outputs": [],
   "source": [
    "# remove anything which has http, www, &amp as they usually part of a url\n",
    "df['alltext'] = df['alltext'].replace(r'http\\S+', '', regex=True).replace(r'www\\S+', '', regex=True).replace(r'\\&amp\\S+', '', regex=True)"
   ]
  },
  {
   "cell_type": "code",
   "execution_count": 24,
   "metadata": {},
   "outputs": [
    {
     "data": {
      "text/html": [
       "<div>\n",
       "<style scoped>\n",
       "    .dataframe tbody tr th:only-of-type {\n",
       "        vertical-align: middle;\n",
       "    }\n",
       "\n",
       "    .dataframe tbody tr th {\n",
       "        vertical-align: top;\n",
       "    }\n",
       "\n",
       "    .dataframe thead th {\n",
       "        text-align: right;\n",
       "    }\n",
       "</style>\n",
       "<table border=\"1\" class=\"dataframe\">\n",
       "  <thead>\n",
       "    <tr style=\"text-align: right;\">\n",
       "      <th></th>\n",
       "      <th>subreddit</th>\n",
       "      <th>alltext</th>\n",
       "      <th>created_utc</th>\n",
       "      <th>author</th>\n",
       "      <th>is_self</th>\n",
       "      <th>score</th>\n",
       "      <th>num_comments</th>\n",
       "      <th>timestamp</th>\n",
       "    </tr>\n",
       "  </thead>\n",
       "  <tbody>\n",
       "    <tr>\n",
       "      <th>9989</th>\n",
       "      <td>ethereum</td>\n",
       "      <td>Is Ethereum only for the rich or do poor folks have any stake in it???. looking at Gas fees Ethereum feels like its only for rich first world crypto genius. Meanwhile poor people get Donations in ...</td>\n",
       "      <td>1620998973</td>\n",
       "      <td>gravemindx</td>\n",
       "      <td>True</td>\n",
       "      <td>1</td>\n",
       "      <td>3</td>\n",
       "      <td>2021-05-14</td>\n",
       "    </tr>\n",
       "    <tr>\n",
       "      <th>9991</th>\n",
       "      <td>ethereum</td>\n",
       "      <td>I have been bitten by the bug. When blockchain first came out I thought it would be a fad. Seeing that bitcoin really had no purpose besides store of value. Years go by and I find ethereum... I he...</td>\n",
       "      <td>1620998600</td>\n",
       "      <td>moistcoder</td>\n",
       "      <td>True</td>\n",
       "      <td>1</td>\n",
       "      <td>58</td>\n",
       "      <td>2021-05-14</td>\n",
       "    </tr>\n",
       "    <tr>\n",
       "      <th>9993</th>\n",
       "      <td>ethereum</td>\n",
       "      <td>Well this is quite the story.... [\\n\\nFantastic for him, and glad his roulette wheel paid off. But Doge is the future of crypto? Not sure I agree with that one...</td>\n",
       "      <td>1620997252</td>\n",
       "      <td>MikeClimbsDC</td>\n",
       "      <td>True</td>\n",
       "      <td>1</td>\n",
       "      <td>2</td>\n",
       "      <td>2021-05-14</td>\n",
       "    </tr>\n",
       "    <tr>\n",
       "      <th>9996</th>\n",
       "      <td>ethereum</td>\n",
       "      <td>Singapore’s DBS Private Bank has announced the launch of Asia’s first bank-backed trust offering for cryptocurrency including Ethereum..</td>\n",
       "      <td>1620995288</td>\n",
       "      <td>rollingincrypto</td>\n",
       "      <td>False</td>\n",
       "      <td>1</td>\n",
       "      <td>0</td>\n",
       "      <td>2021-05-14</td>\n",
       "    </tr>\n",
       "    <tr>\n",
       "      <th>9998</th>\n",
       "      <td>ethereum</td>\n",
       "      <td>mining eth with phoenix miner latest 5.6d getting HIGH stale rate. Hey everybody! I have a 5600x with a 580 rx and  32gigs of DDR4 mining ethereum using phoenix mine and I have a 44%-50% stale rat...</td>\n",
       "      <td>1620994163</td>\n",
       "      <td>djsteveg</td>\n",
       "      <td>True</td>\n",
       "      <td>1</td>\n",
       "      <td>2</td>\n",
       "      <td>2021-05-14</td>\n",
       "    </tr>\n",
       "  </tbody>\n",
       "</table>\n",
       "</div>"
      ],
      "text/plain": [
       "     subreddit  \\\n",
       "9989  ethereum   \n",
       "9991  ethereum   \n",
       "9993  ethereum   \n",
       "9996  ethereum   \n",
       "9998  ethereum   \n",
       "\n",
       "                                                                                                                                                                                                      alltext  \\\n",
       "9989  Is Ethereum only for the rich or do poor folks have any stake in it???. looking at Gas fees Ethereum feels like its only for rich first world crypto genius. Meanwhile poor people get Donations in ...   \n",
       "9991  I have been bitten by the bug. When blockchain first came out I thought it would be a fad. Seeing that bitcoin really had no purpose besides store of value. Years go by and I find ethereum... I he...   \n",
       "9993                                       Well this is quite the story.... [\\n\\nFantastic for him, and glad his roulette wheel paid off. But Doge is the future of crypto? Not sure I agree with that one...   \n",
       "9996                                                                Singapore’s DBS Private Bank has announced the launch of Asia’s first bank-backed trust offering for cryptocurrency including Ethereum..    \n",
       "9998  mining eth with phoenix miner latest 5.6d getting HIGH stale rate. Hey everybody! I have a 5600x with a 580 rx and  32gigs of DDR4 mining ethereum using phoenix mine and I have a 44%-50% stale rat...   \n",
       "\n",
       "      created_utc           author  is_self  score  num_comments   timestamp  \n",
       "9989   1620998973       gravemindx     True      1             3  2021-05-14  \n",
       "9991   1620998600       moistcoder     True      1            58  2021-05-14  \n",
       "9993   1620997252     MikeClimbsDC     True      1             2  2021-05-14  \n",
       "9996   1620995288  rollingincrypto    False      1             0  2021-05-14  \n",
       "9998   1620994163         djsteveg     True      1             2  2021-05-14  "
      ]
     },
     "execution_count": 24,
     "metadata": {},
     "output_type": "execute_result"
    }
   ],
   "source": [
    "df.tail()"
   ]
  },
  {
   "cell_type": "markdown",
   "metadata": {},
   "source": [
    "Checking that all html links have been removed. Viola!"
   ]
  },
  {
   "cell_type": "markdown",
   "metadata": {},
   "source": [
    "---"
   ]
  },
  {
   "cell_type": "markdown",
   "metadata": {},
   "source": [
    "### Pre-processing the data:\n",
    "\n",
    "1. Lowercase all words and split words into individual tokens\n",
    "2. Lemmatize words that are not stopwords (Not stemming because we prefer accuracy over speed)"
   ]
  },
  {
   "cell_type": "code",
   "execution_count": 25,
   "metadata": {},
   "outputs": [],
   "source": [
    "stopwords = nltk.corpus.stopwords.words('english')\n",
    "wn = nltk.WordNetLemmatizer()"
   ]
  },
  {
   "cell_type": "code",
   "execution_count": 26,
   "metadata": {},
   "outputs": [],
   "source": [
    "def clean_text(text):\n",
    "    text = \"\".join([word.lower() for word in text if word not in string.punctuation])\n",
    "    # \\W matches any non-word character (equivalent to [^a-zA-Z0-9_]). This does not include spaces i.e. \\s\n",
    "    # Add a + just in case there are 2 or more spaces between certain words\n",
    "    tokens = re.split('\\W+', text)\n",
    "    \n",
    "    # apply lemmatizing and stopwords exclusion within the same step\n",
    "    text = [wn.lemmatize(word) for word in tokens if word not in stopwords]\n",
    "    text = (' '.join(text))\n",
    "    return text"
   ]
  },
  {
   "cell_type": "code",
   "execution_count": 27,
   "metadata": {},
   "outputs": [],
   "source": [
    "df['alltext'] = df['alltext'].apply(lambda x: clean_text(x))"
   ]
  },
  {
   "cell_type": "code",
   "execution_count": 28,
   "metadata": {},
   "outputs": [
    {
     "data": {
      "text/html": [
       "<div>\n",
       "<style scoped>\n",
       "    .dataframe tbody tr th:only-of-type {\n",
       "        vertical-align: middle;\n",
       "    }\n",
       "\n",
       "    .dataframe tbody tr th {\n",
       "        vertical-align: top;\n",
       "    }\n",
       "\n",
       "    .dataframe thead th {\n",
       "        text-align: right;\n",
       "    }\n",
       "</style>\n",
       "<table border=\"1\" class=\"dataframe\">\n",
       "  <thead>\n",
       "    <tr style=\"text-align: right;\">\n",
       "      <th></th>\n",
       "      <th>subreddit</th>\n",
       "      <th>alltext</th>\n",
       "      <th>created_utc</th>\n",
       "      <th>author</th>\n",
       "      <th>is_self</th>\n",
       "      <th>score</th>\n",
       "      <th>num_comments</th>\n",
       "      <th>timestamp</th>\n",
       "    </tr>\n",
       "  </thead>\n",
       "  <tbody>\n",
       "    <tr>\n",
       "      <th>9989</th>\n",
       "      <td>ethereum</td>\n",
       "      <td>ethereum rich poor folk stake looking gas fee ethereum feel like rich first world crypto genius meanwhile poor people get donation shitcoins eth crowd scream vitalik donates 1 billion worth shiba ...</td>\n",
       "      <td>1620998973</td>\n",
       "      <td>gravemindx</td>\n",
       "      <td>True</td>\n",
       "      <td>1</td>\n",
       "      <td>3</td>\n",
       "      <td>2021-05-14</td>\n",
       "    </tr>\n",
       "    <tr>\n",
       "      <th>9991</th>\n",
       "      <td>ethereum</td>\n",
       "      <td>bitten bug blockchain first came thought would fad seeing bitcoin really purpose besides store value year go find ethereum heard thought another type blockchain like bitcoin gave time day whole op...</td>\n",
       "      <td>1620998600</td>\n",
       "      <td>moistcoder</td>\n",
       "      <td>True</td>\n",
       "      <td>1</td>\n",
       "      <td>58</td>\n",
       "      <td>2021-05-14</td>\n",
       "    </tr>\n",
       "    <tr>\n",
       "      <th>9993</th>\n",
       "      <td>ethereum</td>\n",
       "      <td>well quite story fantastic glad roulette wheel paid doge future crypto sure agree one</td>\n",
       "      <td>1620997252</td>\n",
       "      <td>MikeClimbsDC</td>\n",
       "      <td>True</td>\n",
       "      <td>1</td>\n",
       "      <td>2</td>\n",
       "      <td>2021-05-14</td>\n",
       "    </tr>\n",
       "    <tr>\n",
       "      <th>9996</th>\n",
       "      <td>ethereum</td>\n",
       "      <td>singapore db private bank announced launch asia first bankbacked trust offering cryptocurrency including ethereum</td>\n",
       "      <td>1620995288</td>\n",
       "      <td>rollingincrypto</td>\n",
       "      <td>False</td>\n",
       "      <td>1</td>\n",
       "      <td>0</td>\n",
       "      <td>2021-05-14</td>\n",
       "    </tr>\n",
       "    <tr>\n",
       "      <th>9998</th>\n",
       "      <td>ethereum</td>\n",
       "      <td>mining eth phoenix miner latest 56d getting high stale rate hey everybody 5600x 580 rx 32gigs ddr4 mining ethereum using phoenix mine 4450 stale rate lower stale rate everything running stock oc</td>\n",
       "      <td>1620994163</td>\n",
       "      <td>djsteveg</td>\n",
       "      <td>True</td>\n",
       "      <td>1</td>\n",
       "      <td>2</td>\n",
       "      <td>2021-05-14</td>\n",
       "    </tr>\n",
       "  </tbody>\n",
       "</table>\n",
       "</div>"
      ],
      "text/plain": [
       "     subreddit  \\\n",
       "9989  ethereum   \n",
       "9991  ethereum   \n",
       "9993  ethereum   \n",
       "9996  ethereum   \n",
       "9998  ethereum   \n",
       "\n",
       "                                                                                                                                                                                                      alltext  \\\n",
       "9989  ethereum rich poor folk stake looking gas fee ethereum feel like rich first world crypto genius meanwhile poor people get donation shitcoins eth crowd scream vitalik donates 1 billion worth shiba ...   \n",
       "9991  bitten bug blockchain first came thought would fad seeing bitcoin really purpose besides store value year go find ethereum heard thought another type blockchain like bitcoin gave time day whole op...   \n",
       "9993                                                                                                                    well quite story fantastic glad roulette wheel paid doge future crypto sure agree one   \n",
       "9996                                                                                       singapore db private bank announced launch asia first bankbacked trust offering cryptocurrency including ethereum    \n",
       "9998       mining eth phoenix miner latest 56d getting high stale rate hey everybody 5600x 580 rx 32gigs ddr4 mining ethereum using phoenix mine 4450 stale rate lower stale rate everything running stock oc   \n",
       "\n",
       "      created_utc           author  is_self  score  num_comments   timestamp  \n",
       "9989   1620998973       gravemindx     True      1             3  2021-05-14  \n",
       "9991   1620998600       moistcoder     True      1            58  2021-05-14  \n",
       "9993   1620997252     MikeClimbsDC     True      1             2  2021-05-14  \n",
       "9996   1620995288  rollingincrypto    False      1             0  2021-05-14  \n",
       "9998   1620994163         djsteveg     True      1             2  2021-05-14  "
      ]
     },
     "execution_count": 28,
     "metadata": {},
     "output_type": "execute_result"
    }
   ],
   "source": [
    "df.tail()"
   ]
  },
  {
   "cell_type": "markdown",
   "metadata": {},
   "source": [
    "---"
   ]
  },
  {
   "cell_type": "markdown",
   "metadata": {},
   "source": [
    "## Exploratory Data Analysis"
   ]
  },
  {
   "cell_type": "markdown",
   "metadata": {},
   "source": [
    "Let's try to understand the usefulness of our content by analysing the volume of comments and the richness of the text"
   ]
  },
  {
   "cell_type": "markdown",
   "metadata": {},
   "source": [
    "#### Distribution of posts by volume of comments"
   ]
  },
  {
   "cell_type": "code",
   "execution_count": 29,
   "metadata": {},
   "outputs": [
    {
     "data": {
      "text/plain": [
       "0     4927\n",
       "1     1774\n",
       "2     1073\n",
       "3      683\n",
       "4      605\n",
       "5      438\n",
       "6      393\n",
       "7      296\n",
       "8      288\n",
       "9      259\n",
       "10     230\n",
       "11     192\n",
       "12     184\n",
       "13     163\n",
       "14     142\n",
       "15     128\n",
       "16     124\n",
       "17      99\n",
       "19      93\n",
       "18      89\n",
       "22      75\n",
       "20      74\n",
       "21      69\n",
       "23      65\n",
       "24      59\n",
       "26      55\n",
       "25      53\n",
       "27      51\n",
       "29      49\n",
       "28      46\n",
       "31      38\n",
       "32      32\n",
       "33      32\n",
       "30      29\n",
       "41      29\n",
       "36      26\n",
       "39      25\n",
       "34      25\n",
       "35      25\n",
       "44      23\n",
       "40      23\n",
       "37      23\n",
       "47      22\n",
       "57      19\n",
       "45      19\n",
       "38      19\n",
       "52      19\n",
       "42      19\n",
       "43      17\n",
       "64      16\n",
       "Name: num_comments, dtype: int64"
      ]
     },
     "execution_count": 29,
     "metadata": {},
     "output_type": "execute_result"
    }
   ],
   "source": [
    "df['num_comments'].value_counts()[:50]"
   ]
  },
  {
   "cell_type": "code",
   "execution_count": 30,
   "metadata": {},
   "outputs": [
    {
     "name": "stdout",
     "output_type": "stream",
     "text": [
      "Average No. of Comments:  15.804214723052826\n",
      "Most Frequent No. of Comments:  0    0\n",
      "dtype: int64\n",
      "Maximum No. of Comments on a Post:  1629\n"
     ]
    }
   ],
   "source": [
    "print('Average No. of Comments: ', df['num_comments'].mean())\n",
    "print('Most Frequent No. of Comments: ', df['num_comments'].mode())\n",
    "print('Maximum No. of Comments on a Post: ', df['num_comments'].max())"
   ]
  },
  {
   "cell_type": "markdown",
   "metadata": {},
   "source": [
    "Most posts have no comments. The average number of comments across all posts is 18, with some outliers exceeding 1,000 comments that can could either add noise to the model or they could also indicate the popularity of particular posts. For now, we're not going to remove it even though it may skew our data, because it may still turn out to be useful."
   ]
  },
  {
   "cell_type": "markdown",
   "metadata": {},
   "source": [
    "## Data Visualization"
   ]
  },
  {
   "cell_type": "code",
   "execution_count": 31,
   "metadata": {},
   "outputs": [
    {
     "data": {
      "image/png": "[encoded data removed]",
      "text/plain": [
       "<Figure size 1152x648 with 1 Axes>"
      ]
     },
     "metadata": {
      "needs_background": "light"
     },
     "output_type": "display_data"
    }
   ],
   "source": [
    "plt.figure(figsize = (16,9));\n",
    "df['num_comments'].plot(kind='hist');\n",
    "plt.title('Number of post comments', size =20);\n",
    "plt.xticks([0, 100, 200, 300, 400, 500, 600, 700, 800, 900, 1000], size=14);\n",
    "plt.yticks(size=12);\n",
    "plt.ylabel('Number of posts', size=14);"
   ]
  },
  {
   "cell_type": "markdown",
   "metadata": {},
   "source": [
    "Let's see if any authors appear too frequently. It might either mean that they're very active on Reddit or could be spam"
   ]
  },
  {
   "cell_type": "code",
   "execution_count": 32,
   "metadata": {},
   "outputs": [
    {
     "data": {
      "text/plain": [
       "twigwam                 195\n",
       "simplelifestyle         108\n",
       "Zalkifl_Savage           87\n",
       "rollingincrypto          62\n",
       "TobiHovey                58\n",
       "coinmonks                52\n",
       "hamoti                   50\n",
       "[deleted]                49\n",
       "CoinjoyAssistant         49\n",
       "DailyGweiBot             47\n",
       "PeacockMamba             46\n",
       "crypto_pub               43\n",
       "Grade19282               42\n",
       "sportifynews             42\n",
       "AutoModerator            39\n",
       "rBitcoinMod              39\n",
       "shaikhzahida             37\n",
       "the_damj                 36\n",
       "CryptoDeFinance          36\n",
       "BoyYeetzWorld            35\n",
       "CorrineSomers            35\n",
       "fecktk                   34\n",
       "BitcoinWide              33\n",
       "Major_Bandicoot_3239     33\n",
       "nicky_papagiorgio        33\n",
       "ShotBot                  33\n",
       "VeronZ76                 33\n",
       "ARONBOSS                 32\n",
       "sylsau                   32\n",
       "bletchleymcgregor        31\n",
       "fritson1                 31\n",
       "ligi                     30\n",
       "thefoodboylover          30\n",
       "michalesalla             29\n",
       "BashCo                   29\n",
       "Mars_chego               29\n",
       "bitrefill                29\n",
       "Terrible-Possible-91     29\n",
       "crypto_bot               29\n",
       "lorecirstea              27\n",
       "andrytail                27\n",
       "Honour1122               26\n",
       "HabileJ_6                26\n",
       "Professional_Rub_633     26\n",
       "thadiusb                 26\n",
       "Bitcoin_Magazine         25\n",
       "ShondraRiemann           24\n",
       "xcryptogurux             24\n",
       "arnaudmrtn               24\n",
       "Professional-Code858     23\n",
       "Name: author, dtype: int64"
      ]
     },
     "execution_count": 32,
     "metadata": {},
     "output_type": "execute_result"
    }
   ],
   "source": [
    "df['author'].value_counts()[:50]"
   ]
  },
  {
   "cell_type": "code",
   "execution_count": 33,
   "metadata": {},
   "outputs": [
    {
     "name": "stdout",
     "output_type": "stream",
     "text": [
      "Total No. of Unique Authors:  7772\n",
      "Average No. of Posts by Authors:  1.8072568193515182\n"
     ]
    }
   ],
   "source": [
    "print('Total No. of Unique Authors: ', len(df['author'].unique()))\n",
    "print('Average No. of Posts by Authors: ', df['author'].value_counts().mean())"
   ]
  },
  {
   "cell_type": "markdown",
   "metadata": {},
   "source": [
    "Let's see how many posts we've had over the months"
   ]
  },
  {
   "cell_type": "code",
   "execution_count": 34,
   "metadata": {},
   "outputs": [
    {
     "data": {
      "image/png": "[encoded data removed]",
      "text/plain": [
       "<Figure size 1800x720 with 1 Axes>"
      ]
     },
     "metadata": {
      "needs_background": "light"
     },
     "output_type": "display_data"
    }
   ],
   "source": [
    "plt.figure(figsize = (25,10))\n",
    "plt.title('Age of post', size = 20);\n",
    "df['timestamp'].hist();\n",
    "plt.xticks(size=14, rotation=90)\n",
    "plt.yticks(size=15)\n",
    "plt.ylabel('Number of posts', size = 15);"
   ]
  },
  {
   "cell_type": "markdown",
   "metadata": {},
   "source": [
    "Number of posts from 14th May to 17th June was fairly low and consistent until a sudden jump on 18th June, and then again on 25th June.\n",
    "\n",
    "The period from 18th June to 1st July 2021 coincides with negative fluctuation in Bitcoin and Ethereum prices, possibly leading to a lot of chatter on the subreddits."
   ]
  },
  {
   "cell_type": "markdown",
   "metadata": {},
   "source": [
    "Distribution of original posts vs reposts"
   ]
  },
  {
   "cell_type": "code",
   "execution_count": 35,
   "metadata": {},
   "outputs": [
    {
     "data": {
      "text/plain": [
       "False    0.65\n",
       "True     0.35\n",
       "Name: is_self, dtype: float64"
      ]
     },
     "execution_count": 35,
     "metadata": {},
     "output_type": "execute_result"
    }
   ],
   "source": [
    "df['is_self'].value_counts(normalize=True).round(2)"
   ]
  },
  {
   "cell_type": "markdown",
   "metadata": {},
   "source": [
    "How well do most posts score?\n",
    "\n",
    "This is derived from (Total Upvotes - Total Downvotes) on a post.\n",
    "\n",
    "Higher positive score indicates a post deemed to be of better quality due to a larger positive difference between upvotes and downvotes."
   ]
  },
  {
   "cell_type": "code",
   "execution_count": 36,
   "metadata": {},
   "outputs": [
    {
     "name": "stdout",
     "output_type": "stream",
     "text": [
      "Average Post Score:  1.9874697422753809\n",
      "Highest Post Score:  1998\n"
     ]
    }
   ],
   "source": [
    "print('Average Post Score: ', df['score'].mean())\n",
    "print('Highest Post Score: ', df['score'].max())"
   ]
  },
  {
   "cell_type": "markdown",
   "metadata": {},
   "source": [
    "#### Vectorize text in prep for analysis\n",
    "We will need to vectorize our words, for our models to process them"
   ]
  },
  {
   "cell_type": "code",
   "execution_count": 37,
   "metadata": {},
   "outputs": [],
   "source": [
    "# initialise countvectorizer\n",
    "cvec = CountVectorizer()\n",
    "# fit and transform vectorizer\n",
    "word_counts = cvec.fit_transform(df['alltext'])"
   ]
  },
  {
   "cell_type": "code",
   "execution_count": 38,
   "metadata": {},
   "outputs": [
    {
     "data": {
      "text/plain": [
       "scipy.sparse.csr.csr_matrix"
      ]
     },
     "execution_count": 38,
     "metadata": {},
     "output_type": "execute_result"
    }
   ],
   "source": [
    "type(word_counts)"
   ]
  },
  {
   "cell_type": "code",
   "execution_count": 39,
   "metadata": {},
   "outputs": [],
   "source": [
    "# make it a dataframe\n",
    "counts = pd.DataFrame(word_counts.todense(), columns=cvec.get_feature_names())"
   ]
  },
  {
   "cell_type": "code",
   "execution_count": 40,
   "metadata": {},
   "outputs": [
    {
     "name": "stdout",
     "output_type": "stream",
     "text": [
      "Total No. of Words in the Post Column:  323988\n"
     ]
    }
   ],
   "source": [
    "print('Total No. of Words in the Post Column: ', counts.sum().sum())"
   ]
  },
  {
   "cell_type": "markdown",
   "metadata": {},
   "source": [
    "Create a new column 'post_length' that calculates words contained in each 'alltext' row"
   ]
  },
  {
   "cell_type": "code",
   "execution_count": 41,
   "metadata": {},
   "outputs": [],
   "source": [
    "df['post_length'] = df['alltext'].map(lambda x: len(x.split()))"
   ]
  },
  {
   "cell_type": "code",
   "execution_count": 42,
   "metadata": {},
   "outputs": [
    {
     "data": {
      "text/html": [
       "<div>\n",
       "<style scoped>\n",
       "    .dataframe tbody tr th:only-of-type {\n",
       "        vertical-align: middle;\n",
       "    }\n",
       "\n",
       "    .dataframe tbody tr th {\n",
       "        vertical-align: top;\n",
       "    }\n",
       "\n",
       "    .dataframe thead th {\n",
       "        text-align: right;\n",
       "    }\n",
       "</style>\n",
       "<table border=\"1\" class=\"dataframe\">\n",
       "  <thead>\n",
       "    <tr style=\"text-align: right;\">\n",
       "      <th></th>\n",
       "      <th>subreddit</th>\n",
       "      <th>alltext</th>\n",
       "      <th>created_utc</th>\n",
       "      <th>author</th>\n",
       "      <th>is_self</th>\n",
       "      <th>score</th>\n",
       "      <th>num_comments</th>\n",
       "      <th>timestamp</th>\n",
       "      <th>post_length</th>\n",
       "    </tr>\n",
       "  </thead>\n",
       "  <tbody>\n",
       "    <tr>\n",
       "      <th>2142</th>\n",
       "      <td>ethereum</td>\n",
       "      <td>𝚆𝚎𝚕𝚕 𝚘𝚔 𝚝𝚑𝚎𝚗</td>\n",
       "      <td>1625352452</td>\n",
       "      <td>VelothYT</td>\n",
       "      <td>False</td>\n",
       "      <td>1</td>\n",
       "      <td>13</td>\n",
       "      <td>2021-07-04</td>\n",
       "      <td>3</td>\n",
       "    </tr>\n",
       "    <tr>\n",
       "      <th>1074</th>\n",
       "      <td>Bitcoin</td>\n",
       "      <td>𝗠𝗗𝗧 𝗣𝗿𝗶𝘃𝗮𝘁𝗲 𝗦𝗮𝗹𝗲 𝗢𝗻𝗴𝗼𝗶𝗻𝗴</td>\n",
       "      <td>1626678829</td>\n",
       "      <td>Zuchiii</td>\n",
       "      <td>False</td>\n",
       "      <td>1</td>\n",
       "      <td>0</td>\n",
       "      <td>2021-07-19</td>\n",
       "      <td>4</td>\n",
       "    </tr>\n",
       "    <tr>\n",
       "      <th>8853</th>\n",
       "      <td>Bitcoin</td>\n",
       "      <td>加密货币的寒冬到来了吗</td>\n",
       "      <td>1624629610</td>\n",
       "      <td>jcj52</td>\n",
       "      <td>False</td>\n",
       "      <td>1</td>\n",
       "      <td>0</td>\n",
       "      <td>2021-06-25</td>\n",
       "      <td>1</td>\n",
       "    </tr>\n",
       "    <tr>\n",
       "      <th>4267</th>\n",
       "      <td>ethereum</td>\n",
       "      <td>以太坊上的域名服务 en 让你拥有自己独特的钱包地址 轻松得到v神钱包地址</td>\n",
       "      <td>1623863082</td>\n",
       "      <td>Psychological-One788</td>\n",
       "      <td>False</td>\n",
       "      <td>1</td>\n",
       "      <td>0</td>\n",
       "      <td>2021-06-17</td>\n",
       "      <td>4</td>\n",
       "    </tr>\n",
       "    <tr>\n",
       "      <th>9994</th>\n",
       "      <td>Bitcoin</td>\n",
       "      <td>中国全面封杀比特币 各大银行联合声明禁止 牛市彻底结束了吗 为什么中国年年禁止比特币</td>\n",
       "      <td>1624395628</td>\n",
       "      <td>Psychological-One788</td>\n",
       "      <td>False</td>\n",
       "      <td>1</td>\n",
       "      <td>4</td>\n",
       "      <td>2021-06-23</td>\n",
       "      <td>4</td>\n",
       "    </tr>\n",
       "  </tbody>\n",
       "</table>\n",
       "</div>"
      ],
      "text/plain": [
       "     subreddit                                      alltext  created_utc  \\\n",
       "2142  ethereum                                𝚆𝚎𝚕𝚕 𝚘𝚔 𝚝𝚑𝚎𝚗    1625352452   \n",
       "1074   Bitcoin                    𝗠𝗗𝗧 𝗣𝗿𝗶𝘃𝗮𝘁𝗲 𝗦𝗮𝗹𝗲 𝗢𝗻𝗴𝗼𝗶𝗻𝗴    1626678829   \n",
       "8853   Bitcoin                                 加密货币的寒冬到来了吗    1624629610   \n",
       "4267  ethereum       以太坊上的域名服务 en 让你拥有自己独特的钱包地址 轻松得到v神钱包地址    1623863082   \n",
       "9994   Bitcoin  中国全面封杀比特币 各大银行联合声明禁止 牛市彻底结束了吗 为什么中国年年禁止比特币    1624395628   \n",
       "\n",
       "                    author  is_self  score  num_comments   timestamp  \\\n",
       "2142              VelothYT    False      1            13  2021-07-04   \n",
       "1074               Zuchiii    False      1             0  2021-07-19   \n",
       "8853                 jcj52    False      1             0  2021-06-25   \n",
       "4267  Psychological-One788    False      1             0  2021-06-17   \n",
       "9994  Psychological-One788    False      1             4  2021-06-23   \n",
       "\n",
       "      post_length  \n",
       "2142            3  \n",
       "1074            4  \n",
       "8853            1  \n",
       "4267            4  \n",
       "9994            4  "
      ]
     },
     "execution_count": 42,
     "metadata": {},
     "output_type": "execute_result"
    }
   ],
   "source": [
    "df.sort_values(by='alltext', ascending=False).head()"
   ]
  },
  {
   "cell_type": "code",
   "execution_count": 43,
   "metadata": {},
   "outputs": [
    {
     "data": {
      "image/png": "[encoded data removed]",
      "text/plain": [
       "<Figure size 432x288 with 1 Axes>"
      ]
     },
     "metadata": {
      "needs_background": "light"
     },
     "output_type": "display_data"
    }
   ],
   "source": [
    "# think about whether this info is valuable\n",
    "\n",
    "df.groupby('subreddit')[['post_length']].mean().plot(kind='barh');\n",
    "plt.xticks(size=13);\n",
    "plt.yticks(size=13, rotation = 70, color = 'red'); #rotation added in order to fit labels\n",
    "plt.ylabel('Subreddit', size=15)\n",
    "plt.xlabel('Post length (in words)', size=15);\n",
    "plt.title('Post length by Subreddit', size=15);"
   ]
  },
  {
   "cell_type": "markdown",
   "metadata": {},
   "source": [
    "What are the most common words?"
   ]
  },
  {
   "cell_type": "code",
   "execution_count": 44,
   "metadata": {},
   "outputs": [
    {
     "data": {
      "text/plain": [
       "pandas.core.frame.DataFrame"
      ]
     },
     "execution_count": 44,
     "metadata": {},
     "output_type": "execute_result"
    }
   ],
   "source": [
    "type(counts)"
   ]
  },
  {
   "cell_type": "code",
   "execution_count": 45,
   "metadata": {},
   "outputs": [
    {
     "data": {
      "text/plain": [
       "bitcoin           8036\n",
       "crypto            2491\n",
       "ethereum          2407\n",
       "btc               2158\n",
       "eth               1709\n",
       "like              1685\n",
       "would             1638\n",
       "get               1484\n",
       "wallet            1462\n",
       "price             1456\n",
       "time              1361\n",
       "people            1301\n",
       "one               1292\n",
       "money             1204\n",
       "know              1194\n",
       "buy               1086\n",
       "new               1062\n",
       "im                1050\n",
       "make              1044\n",
       "year              1006\n",
       "mining             984\n",
       "market             971\n",
       "use                963\n",
       "coin               920\n",
       "transaction        911\n",
       "want               887\n",
       "need               884\n",
       "think              875\n",
       "network            875\n",
       "dont               848\n",
       "could              845\n",
       "day                800\n",
       "way                787\n",
       "go                 784\n",
       "see                777\n",
       "first              771\n",
       "help               752\n",
       "blockchain         747\n",
       "fee                740\n",
       "also               733\n",
       "good               702\n",
       "currency           694\n",
       "exchange           692\n",
       "even               676\n",
       "cryptocurrency     672\n",
       "world              666\n",
       "still              660\n",
       "question           658\n",
       "bank               658\n",
       "anyone             655\n",
       "dtype: int64"
      ]
     },
     "execution_count": 45,
     "metadata": {},
     "output_type": "execute_result"
    }
   ],
   "source": [
    "counts.sum().sort_values(ascending=False).head(50).T"
   ]
  },
  {
   "cell_type": "code",
   "execution_count": 46,
   "metadata": {},
   "outputs": [
    {
     "data": {
      "image/png": "[encoded data removed]",
      "text/plain": [
       "<Figure size 720x576 with 1 Axes>"
      ]
     },
     "metadata": {
      "needs_background": "light"
     },
     "output_type": "display_data"
    }
   ],
   "source": [
    "plt.figure(figsize=(10,8))\n",
    "counts.sum().sort_values(ascending=False).head(30)[1:].plot(kind='barh');\n",
    "plt.title('Most frequently occurring words in subReddits', size = 15);\n",
    "plt.xlabel('Word count', size =13);\n",
    "plt.yticks(size=13);\n",
    "plt.ylabel('Word', size=13);"
   ]
  },
  {
   "cell_type": "code",
   "execution_count": 47,
   "metadata": {},
   "outputs": [],
   "source": [
    "df.to_csv('../data/df_sub.csv', index=False)"
   ]
  },
  {
   "cell_type": "code",
   "execution_count": 48,
   "metadata": {},
   "outputs": [
    {
     "data": {
      "text/plain": [
       "subreddit       0\n",
       "alltext         0\n",
       "created_utc     0\n",
       "author          0\n",
       "is_self         0\n",
       "score           0\n",
       "num_comments    0\n",
       "timestamp       0\n",
       "post_length     0\n",
       "dtype: int64"
      ]
     },
     "execution_count": 48,
     "metadata": {},
     "output_type": "execute_result"
    }
   ],
   "source": [
    "df.isnull().sum()"
   ]
  },
  {
   "cell_type": "code",
   "execution_count": 49,
   "metadata": {},
   "outputs": [
    {
     "data": {
      "text/plain": [
       "(14046, 9)"
      ]
     },
     "execution_count": 49,
     "metadata": {},
     "output_type": "execute_result"
    }
   ],
   "source": [
    "df.shape"
   ]
  }
 ],
 "metadata": {
  "kernelspec": {
   "display_name": "Python 3",
   "language": "python",
   "name": "python3"
  },
  "language_info": {
   "codemirror_mode": {
    "name": "ipython",
    "version": 3
   },
   "file_extension": ".py",
   "mimetype": "text/x-python",
   "name": "python",
   "nbconvert_exporter": "python",
   "pygments_lexer": "ipython3",
   "version": "3.8.8"
  }
 },
 "nbformat": 4,
 "nbformat_minor": 4
}
